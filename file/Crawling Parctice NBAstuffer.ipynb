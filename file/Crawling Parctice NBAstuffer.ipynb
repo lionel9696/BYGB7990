{
 "cells": [
  {
   "cell_type": "code",
   "execution_count": 1,
   "metadata": {
    "ExecuteTime": {
     "end_time": "2019-10-19T01:57:23.904163Z",
     "start_time": "2019-10-19T01:57:23.680722Z"
    }
   },
   "outputs": [],
   "source": [
    "import requests\n",
    "from bs4 import BeautifulSoup\n",
    "from lxml import etree\n"
   ]
  },
  {
   "cell_type": "code",
   "execution_count": 2,
   "metadata": {
    "ExecuteTime": {
     "end_time": "2019-10-19T06:29:07.883148Z",
     "start_time": "2019-10-19T06:29:06.190652Z"
    }
   },
   "outputs": [],
   "source": [
    "html = requests.get('https://www.nbastuffer.com/2016-2017-nba-regular-season-player-stats/').text\n",
    "#print(html)\n",
    "soup = BeautifulSoup(html, 'html.parser')"
   ]
  },
  {
   "cell_type": "code",
   "execution_count": 3,
   "metadata": {
    "ExecuteTime": {
     "end_time": "2019-10-19T06:37:59.720246Z",
     "start_time": "2019-10-19T06:37:59.403076Z"
    }
   },
   "outputs": [
    {
     "ename": "IndexError",
     "evalue": "list index out of range",
     "output_type": "error",
     "traceback": [
      "\u001b[1;31m---------------------------------------------------------------------------\u001b[0m",
      "\u001b[1;31mIndexError\u001b[0m                                Traceback (most recent call last)",
      "\u001b[1;32m<ipython-input-3-457784fd5c50>\u001b[0m in \u001b[0;36m<module>\u001b[1;34m\u001b[0m\n\u001b[1;32m----> 1\u001b[1;33m \u001b[0msoup\u001b[0m\u001b[1;33m.\u001b[0m\u001b[0mfind_all\u001b[0m\u001b[1;33m(\u001b[0m\u001b[1;34m'td'\u001b[0m\u001b[1;33m,\u001b[0m \u001b[1;33m{\u001b[0m\u001b[1;34m'class'\u001b[0m\u001b[1;33m:\u001b[0m \u001b[1;34m'column-2'\u001b[0m\u001b[1;33m}\u001b[0m\u001b[1;33m)\u001b[0m\u001b[1;33m[\u001b[0m\u001b[1;36m209\u001b[0m\u001b[1;33m]\u001b[0m\u001b[1;33m\u001b[0m\u001b[1;33m\u001b[0m\u001b[0m\n\u001b[0m",
      "\u001b[1;31mIndexError\u001b[0m: list index out of range"
     ]
    }
   ],
   "source": [
    "soup.find_all('td', {'class': 'column-2'})[209]"
   ]
  },
  {
   "cell_type": "code",
   "execution_count": null,
   "metadata": {
    "ExecuteTime": {
     "end_time": "2019-10-19T06:39:13.576834Z",
     "start_time": "2019-10-19T06:39:13.555907Z"
    }
   },
   "outputs": [],
   "source": [
    "import re\n",
    "#for i in range(1,29):    \n",
    "#counter = 1\n",
    "def parse_one(num):\n",
    "    i = 1\n",
    "    for j in range(209,num):\n",
    "        \n",
    "        #col = 'column-' + str(counter+1)\n",
    "        yield {\n",
    "            'Index': i,\n",
    "            'Name': re.split('<|>', str(soup.find_all('td', {'class': 'column-2'})[j]))[2],\n",
    "            'Team': re.split('<|>', str(soup.find_all('td', {'class': 'column-3'})[j]))[2],\n",
    "            'Position': re.split('<|>', str(soup.find_all('td', {'class': 'column-4'})[j]))[2],\n",
    "            'Age': re.split('<|>', str(soup.find_all('td', {'class': 'column-5'})[j]))[2],\n",
    "            'GP': re.split('<|>', str(soup.find_all('td', {'class': 'column-6'})[j]))[2],\n",
    "            'MPG': re.split('<|>', str(soup.find_all('td', {'class': 'column-7'})[j]))[2],\n",
    "            'MIN%': re.split('<|>', str(soup.find_all('td', {'class': 'column-8'})[j]))[2],\n",
    "            'USG%': re.split('<|>', str(soup.find_all('td', {'class': 'column-9'})[j]))[2],\n",
    "            'TOr': re.split('<|>', str(soup.find_all('td', {'class': 'column-10'})[j]))[2],\n",
    "            'FT%': re.split('<|>', str(soup.find_all('td', {'class': 'column-12'})[j]))[2],\n",
    "            '2PA': re.split('<|>', str(soup.find_all('td', {'class': 'column-13'})[j]))[2],\n",
    "            '2P%': re.split('<|>', str(soup.find_all('td', {'class': 'column-14'})[j]))[2],\n",
    "            '3PA': re.split('<|>', str(soup.find_all('td', {'class': 'column-15'})[j]))[2],\n",
    "            '3P%': re.split('<|>', str(soup.find_all('td', {'class': 'column-16'})[j]))[2],\n",
    "            'eFG%': re.split('<|>', str(soup.find_all('td', {'class': 'column-17'})[j]))[2],\n",
    "            'TS%': re.split('<|>', str(soup.find_all('td', {'class': 'column-18'})[j]))[2],\n",
    "            'PPG': re.split('<|>', str(soup.find_all('td', {'class': 'column-19'})[j]))[2],\n",
    "            'RPG': re.split('<|>', str(soup.find_all('td', {'class': 'column-20'})[j]))[2],\n",
    "            'TRB%': re.split('<|>', str(soup.find_all('td', {'class': 'column-21'})[j]))[2],\n",
    "            'APG': re.split('<|>', str(soup.find_all('td', {'class': 'column-22'})[j]))[2],\n",
    "            'AST%': re.split('<|>', str(soup.find_all('td', {'class': 'column-23'})[j]))[2],\n",
    "            'SPG': re.split('<|>', str(soup.find_all('td', {'class': 'column-24'})[j]))[2],\n",
    "            'BPG': re.split('<|>', str(soup.find_all('td', {'class': 'column-25'})[j]))[2],\n",
    "            'TOPG': re.split('<|>', str(soup.find_all('td', {'class': 'column-26'})[j]))[2],\n",
    "            'VI': re.split('<|>', str(soup.find_all('td', {'class': 'column-27'})[j]))[2],\n",
    "            'ORTG': re.split('<|>', str(soup.find_all('td', {'class': 'column-28'})[j]))[2],\n",
    "            'DRTG': re.split('<|>', str(soup.find_all('td', {'class': 'column-29'})[j]))[2],\n",
    "        }\n",
    "        i += 1\n",
    "        #attr = re.split(attr)[2]\n",
    "        \n",
    "        #counter += 1"
   ]
  },
  {
   "cell_type": "code",
   "execution_count": null,
   "metadata": {
    "ExecuteTime": {
     "end_time": "2019-10-19T04:17:23.674840Z",
     "start_time": "2019-10-19T04:17:23.670873Z"
    }
   },
   "outputs": [],
   "source": [
    "import json\n",
    "\n",
    "def write_to_file(content):\n",
    "    with open('NBA2019.txt', 'a', encoding='utf-8') as f:\n",
    "        #print(type(json.dumps(content)))\n",
    "        f.write(json.dumps(content, ensure_ascii=False) + '\\n')\n",
    "\n"
   ]
  },
  {
   "cell_type": "code",
   "execution_count": null,
   "metadata": {
    "ExecuteTime": {
     "end_time": "2019-10-19T08:05:36.887159Z",
     "start_time": "2019-10-19T06:39:17.487389Z"
    }
   },
   "outputs": [],
   "source": [
    "for item in parse_one(814):\n",
    "    #print(item)\n",
    "    write_to_file(item)\n",
    "  "
   ]
  },
  {
   "cell_type": "code",
   "execution_count": null,
   "metadata": {
    "ExecuteTime": {
     "end_time": "2019-10-22T03:23:00.724644Z",
     "start_time": "2019-10-22T03:22:59.092003Z"
    }
   },
   "outputs": [],
   "source": [
    "import nltk"
   ]
  },
  {
   "cell_type": "code",
   "execution_count": null,
   "metadata": {
    "ExecuteTime": {
     "start_time": "2019-10-22T03:23:04.914Z"
    }
   },
   "outputs": [],
   "source": [
    "nltk.download()"
   ]
  },
  {
   "cell_type": "code",
   "execution_count": null,
   "metadata": {},
   "outputs": [],
   "source": []
  },
  {
   "cell_type": "code",
   "execution_count": null,
   "metadata": {},
   "outputs": [],
   "source": []
  },
  {
   "cell_type": "code",
   "execution_count": null,
   "metadata": {},
   "outputs": [],
   "source": []
  },
  {
   "cell_type": "code",
   "execution_count": null,
   "metadata": {},
   "outputs": [],
   "source": []
  },
  {
   "cell_type": "code",
   "execution_count": null,
   "metadata": {},
   "outputs": [],
   "source": []
  },
  {
   "cell_type": "code",
   "execution_count": null,
   "metadata": {},
   "outputs": [],
   "source": []
  },
  {
   "cell_type": "code",
   "execution_count": null,
   "metadata": {},
   "outputs": [],
   "source": []
  }
 ],
 "metadata": {
  "kernelspec": {
   "display_name": "Python 3",
   "language": "python",
   "name": "python3"
  },
  "language_info": {
   "codemirror_mode": {
    "name": "ipython",
    "version": 3
   },
   "file_extension": ".py",
   "mimetype": "text/x-python",
   "name": "python",
   "nbconvert_exporter": "python",
   "pygments_lexer": "ipython3",
   "version": "3.7.3"
  },
  "toc": {
   "base_numbering": 1,
   "nav_menu": {},
   "number_sections": true,
   "sideBar": true,
   "skip_h1_title": false,
   "title_cell": "Table of Contents",
   "title_sidebar": "Contents",
   "toc_cell": false,
   "toc_position": {},
   "toc_section_display": true,
   "toc_window_display": false
  }
 },
 "nbformat": 4,
 "nbformat_minor": 2
}
